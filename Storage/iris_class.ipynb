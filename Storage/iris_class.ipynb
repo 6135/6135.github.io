{
  "nbformat": 4,
  "nbformat_minor": 0,
  "metadata": {
    "colab": {
      "name": "iris_class.ipynb",
      "provenance": [],
      "collapsed_sections": [],
      "authorship_tag": "ABX9TyOD98/otUBF+Yjbmx/ikhlJ",
      "include_colab_link": true
    },
    "kernelspec": {
      "name": "python3",
      "display_name": "Python 3"
    },
    "language_info": {
      "name": "python"
    }
  },
  "cells": [
    {
      "cell_type": "markdown",
      "metadata": {
        "id": "view-in-github",
        "colab_type": "text"
      },
      "source": [
        "<a href=\"https://colab.research.google.com/github/6135/6135.github.io/blob/main/iris_class.ipynb\" target=\"_parent\"><img src=\"https://colab.research.google.com/assets/colab-badge.svg\" alt=\"Open In Colab\"/></a>"
      ]
    },
    {
      "cell_type": "code",
      "metadata": {
        "colab": {
          "base_uri": "https://localhost:8080/"
        },
        "id": "ObXWlidmmzxt",
        "outputId": "0ac487c3-b9c0-42cd-bae2-fb6755631bfa"
      },
      "source": [
        "import pandas as pd\n",
        "import numpy as np\n",
        "\n",
        "from google.colab import drive\n",
        "drive.mount('/content/drive',force_remount=True)\n",
        "\n",
        "iris_file='/content/drive/My Drive/ACDataSets/IrisDataSet/iris.csv'\n",
        "DF3 = pd.read_csv(iris_file)\n",
        "\n",
        "data = DF3.iloc[:,:-1]\n",
        "labels = DF3.iloc[:,-1]\n",
        "\n",
        "from sklearn.model_selection import train_test_split\n",
        "from sklearn.metrics import classification_report\n",
        "\n",
        "from sklearn.ensemble import RandomForestClassifier\n",
        "\n",
        "X_train, X_test, y_train, y_test = train_test_split(data,labels,test_size=0.3)\n",
        "\n",
        "classifier = RandomForestClassifier(n_estimators=100)\n",
        "\n",
        "classifier.fit(X_train,y_train)\n",
        "\n",
        "y_pred = classifier.predict(X_test)\n",
        "print(classification_report(y_test,y_pred))"
      ],
      "execution_count": 11,
      "outputs": [
        {
          "output_type": "stream",
          "name": "stdout",
          "text": [
            "Mounted at /content/drive\n",
            "                 precision    recall  f1-score   support\n",
            "\n",
            "    Iris-setosa       1.00      1.00      1.00        20\n",
            "Iris-versicolor       1.00      0.93      0.97        15\n",
            " Iris-virginica       0.91      1.00      0.95        10\n",
            "\n",
            "       accuracy                           0.98        45\n",
            "      macro avg       0.97      0.98      0.97        45\n",
            "   weighted avg       0.98      0.98      0.98        45\n",
            "\n"
          ]
        }
      ]
    },
    {
      "cell_type": "code",
      "metadata": {
        "id": "mSF1e12soFAP"
      },
      "source": [
        ""
      ],
      "execution_count": null,
      "outputs": []
    }
  ]
}